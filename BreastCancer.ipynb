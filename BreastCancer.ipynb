{
  "nbformat": 4,
  "nbformat_minor": 0,
  "metadata": {
    "colab": {
      "provenance": [],
      "gpuType": "T4",
      "collapsed_sections": [
        "7Zqg1IL-vBi3"
      ],
      "authorship_tag": "ABX9TyMR2oU85sz4DyThFzdv0Bny",
      "include_colab_link": true
    },
    "kernelspec": {
      "name": "python3",
      "display_name": "Python 3"
    },
    "language_info": {
      "name": "python"
    },
    "accelerator": "GPU"
  },
  "cells": [
    {
      "cell_type": "markdown",
      "metadata": {
        "id": "view-in-github",
        "colab_type": "text"
      },
      "source": [
        "<a href=\"https://colab.research.google.com/github/analeticiagarcez/Breast_cancer_segmentation_and_classification/blob/features/BreastCancer.ipynb\" target=\"_parent\"><img src=\"https://colab.research.google.com/assets/colab-badge.svg\" alt=\"Open In Colab\"/></a>"
      ]
    },
    {
      "cell_type": "code",
      "source": [
        "!gdown https://cloud.andrelab.icmc.usp.br/s/egcL9TYw4mJtF2w/download/dataset.zip\n",
        "!unzip dataset.zip"
      ],
      "metadata": {
        "id": "gRTTo5HVsyDE"
      },
      "execution_count": null,
      "outputs": []
    },
    {
      "cell_type": "markdown",
      "source": [
        "# Tratamento das saídas\n",
        "\n",
        "EXPLICAÇÃO"
      ],
      "metadata": {
        "id": "7Zqg1IL-vBi3"
      }
    },
    {
      "cell_type": "code",
      "source": [
        "# import os\n",
        "# import re\n",
        "# import cv2\n",
        "# import pandas as pd\n",
        "# from google.colab.patches import cv2_imshow\n",
        "\n",
        "# path_dataset = '/content/Dataset_BUSI_with_GT/'\n",
        "# classes = os.listdir(path_dataset)\n",
        "\n",
        "# # Itera sobre as classes\n",
        "# for c in classes:\n",
        "#   # Monta o path para a pasta da classe\n",
        "#   path_class = os.path.join(path_dataset, c)\n",
        "#   # Pega o nome dos arquivos\n",
        "#   nome_imagens = os.listdir(path_class)\n",
        "#   for nome_imagem in nome_imagens:\n",
        "#     if 'mask_' in nome_imagem:\n",
        "#       # Escrevo o nome da nova imagem\n",
        "#       nome_imagem_original = re.sub('_[0-9]+', '', nome_imagem)\n",
        "#       # Cria o path das máscaras\n",
        "#       path_imagem_original =  os.path.join(path_class, nome_imagem_original)\n",
        "#       path_imagem_atual =  os.path.join(path_class, nome_imagem)\n",
        "#       # Abre as imagens\n",
        "#       img_original = cv2.imread(path_imagem_original)\n",
        "#       img_atual = cv2.imread(path_imagem_atual)\n",
        "#       img_somada = cv2.add(img_original, img_atual)\n",
        "#       # Sobrescreve o arquivo com as imagens fundidas\n",
        "#       cv2.imwrite(path_imagem_original, img_somada)"
      ],
      "metadata": {
        "id": "iCOA7-douJ2q"
      },
      "execution_count": 4,
      "outputs": []
    },
    {
      "cell_type": "markdown",
      "source": [
        "# Leitura das imagens"
      ],
      "metadata": {
        "id": "ZQ1Kkvk142Ta"
      }
    },
    {
      "cell_type": "code",
      "source": [
        "from PIL import Image\n",
        "from torch.utils import data\n",
        "import torchvision.transforms as transforms\n",
        "\n",
        "class Dataset(data.Dataset):\n",
        "  def __init__(self, path, image_size):\n",
        "    self.files_path = path\n",
        "    self.imagens = []\n",
        "    self.path_imagens = []\n",
        "    self.masks = []\n",
        "    self.path_masks = []\n",
        "    self.label = []\n",
        "    self.__transform(image_size)\n",
        "    #Lista as classes dos dados\n",
        "    classes = os.listdir(self.files_path)\n",
        "    # Itera sobre as classes\n",
        "    for c in classes:\n",
        "      # Monta o path para a pasta da classe\n",
        "      path_class = os.path.join(self.files_path, c)\n",
        "      # Pega o nome dos arquivos\n",
        "      nome_imagens = os.listdir(path_class)\n",
        "      for nome_imagem in nome_imagens:\n",
        "        if 'mask' in nome_imagem:\n",
        "          continue\n",
        "        # Monta o caminho para a imagem de entrada e a mácara\n",
        "        path_imagem = os.path.join(path_class, nome_imagem)\n",
        "        path_mask = path_imagem.replace('.', '_mask.')\n",
        "        # Faz a leitura da máscara\n",
        "        imagem = Image.open(path_imagem)\n",
        "        mask =  Image.open(path_mask)\n",
        "        # Salva as imagens na lista\n",
        "        self.imagens.append(imagem)\n",
        "        self.path_imagens.append(path_imagem)\n",
        "        self.masks.append(mask)\n",
        "        self.path_masks.append(path_mask)\n",
        "        self.label.append(c)\n",
        "\n",
        "  def __transform(self, image_size):\n",
        "    # Inicializa o transormador dos dados\n",
        "    self.transform = transforms.Compose([\n",
        "        transforms.Resize(image_size),\n",
        "        transforms.ToTensor()\n",
        "    ])\n",
        "\n",
        "  def __len__(self):\n",
        "    return len(self.imagens)\n",
        "\n",
        "  def __getitem__(self, idx):\n",
        "    # Pega as imagens no índice\n",
        "    imagem = self.imagens[idx]\n",
        "    mask = self.masks[idx]\n",
        "    classe = self.label[idx]\n",
        "    # Transforma as imagens\n",
        "    imagem = self.transform(imagem)\n",
        "    mask = self.transform(mask)\n",
        "    # Retorna os dados das imagens\n",
        "    return {'img': imagem, 'mask': mask, 'label': classe}"
      ],
      "metadata": {
        "id": "Et2qU9XG41iV"
      },
      "execution_count": 9,
      "outputs": []
    },
    {
      "cell_type": "code",
      "source": [
        "# import numpy as np\n",
        "# import pandas as pd\n",
        "# import shutil\n",
        "\n",
        "# random_state = 42\n",
        "# test_size=0.2\n",
        "# #\n",
        "# # copy_files\n",
        "# #\n",
        "# # Copia uma lista de arquivos para um diretório\n",
        "# #\n",
        "# # Args:\n",
        "# #   indexes (list): lista de índices para serem movidos\n",
        "# #   class_path (str): pasta de destino das imagens\n",
        "# #\n",
        "# # Return:\n",
        "# #   None\n",
        "# #\n",
        "# def copy_files(indexes: list, class_path):\n",
        "#   for i in indexes:\n",
        "#     # Pega o nome dos arquivos\n",
        "#     mask_name = dados.path_masks[i].split('/')[-1]\n",
        "#     image_name = dados.path_imagens[i].split('/')[-1]\n",
        "#     # Cria o caminho de destino\n",
        "#     destiny_mask = os.path.join(class_path, mask_name)\n",
        "#     destiny_image = os.path.join(class_path, image_name)\n",
        "#     # Move os arquivos\n",
        "#     shutil.copy(dados.path_masks[i], destiny_mask)\n",
        "#     shutil.copy(dados.path_imagens[i], destiny_image)\n",
        "\n",
        "# #Cria as pastas\n",
        "# try:\n",
        "#   os.mkdir('train')\n",
        "#   os.mkdir('test')\n",
        "# except:\n",
        "#   print('As pastas já existem.')\n",
        "# # Cria uma Série e pega o nome das classes\n",
        "# target_series = pd.Series(dados.label)\n",
        "# classes = target_series.unique()\n",
        "# # Itera sobre os nomes das classes\n",
        "# for c in classes:\n",
        "#   # Pega as amostras da classe\n",
        "#   class_samples = target_series[target_series == c]\n",
        "#   # Calcula a quantidade de amostrads de teste\n",
        "#   n_test_samples = len(class_samples) * 0.2\n",
        "#   n_test_samples = int(n_test_samples)\n",
        "#   # Pega os índices de uma amostragem dos dados\n",
        "#   indexes_test = class_samples.sample(n=n_test_samples, random_state=random_state).index\n",
        "#   indexes_test = indexes_test.to_list()\n",
        "#   # Escreve o nome do diretorio da classe e ria as pastas\n",
        "#   test_class_path = os.path.join('test',  c)\n",
        "#   try:\n",
        "#     os.mkdir(test_class_path)\n",
        "#   except:\n",
        "#     print('A pasta \"test\" já existe.')\n",
        "#   # Copia os arquivos para a pasta de teste\n",
        "#   copy_files(indexes_test, test_class_path)\n",
        "#   #Cria as pastas\n",
        "#   try:\n",
        "#     os.mkdir('train/' + c)\n",
        "#   except:\n",
        "#       print('A pasta \"train\" já existe.')\n",
        "#   # Pega os índices de treino\n",
        "#   indexes_train = class_samples[~class_samples.index.isin(indexes_test)].index\n",
        "#   train_class_path = test_class_path.replace('test',  'train')\n",
        "#   # Copia os arquivos de treino\n",
        "#   copy_files(indexes_train, train_class_path)"
      ],
      "metadata": {
        "id": "EnePrfhJEqe0"
      },
      "execution_count": null,
      "outputs": []
    },
    {
      "cell_type": "code",
      "source": [
        "# Lê as amostras de teste e de treino\n",
        "test = Dataset('/content/dataset/test', (256,256))\n",
        "train = Dataset('/content/dataset/train', (256,256))"
      ],
      "metadata": {
        "id": "jxMt8AehU1L_"
      },
      "execution_count": 12,
      "outputs": []
    },
    {
      "cell_type": "code",
      "source": [
        "pd.Series(dados.image_class).value_counts()"
      ],
      "metadata": {
        "id": "cQIkJMEyYJvh"
      },
      "execution_count": null,
      "outputs": []
    },
    {
      "cell_type": "markdown",
      "source": [],
      "metadata": {
        "id": "nZ_IBOdaCaAJ"
      }
    },
    {
      "cell_type": "code",
      "execution_count": null,
      "metadata": {
        "id": "paeGDz0CrNQ0"
      },
      "outputs": [],
      "source": [
        "import torchvision.models\n",
        "\n",
        "model = torch.hub.load('mateuszbuda/brain-segmentation-pytorch', 'unet',\n",
        "    in_channels=1, out_channels=1, init_features=32, pretrained=True)"
      ]
    }
  ]
}